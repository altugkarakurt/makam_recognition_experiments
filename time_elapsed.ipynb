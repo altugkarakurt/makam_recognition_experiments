{
 "cells": [
  {
   "cell_type": "code",
   "execution_count": 1,
   "metadata": {
    "collapsed": true
   },
   "outputs": [],
   "source": [
    "%matplotlib inline\n",
    "from fileoperations.fileoperations import get_filenames_in_dir\n",
    "from collections import Counter\n",
    "from matplotlib import pyplot\n",
    "from sklearn import linear_model\n",
    "import numpy as np\n",
    "import os\n",
    "import itertools\n"
   ]
  },
  {
   "cell_type": "code",
   "execution_count": 2,
   "metadata": {
    "collapsed": false
   },
   "outputs": [],
   "source": [
    "### %matplotlib inline\n",
    "# parameters\n",
    "distribution_types = ['pcd']\n",
    "step_sizes = [7.5, 15.0, 25.0, 50.0, 100.0]\n",
    "kernel_widths = [0, 7.5, 15.0, 25.0, 50.0, 100.0]\n",
    "model_types = [ 'multi']\n",
    "\n",
    "# experimental setup\n",
    "experiment_types = ['tonic', 'joint']\n",
    "fold_idx = np.arange(0,10,1)\n",
    "\n",
    "# testing parameters\n",
    "dis_measures = ['l1', 'l2', 'l3', 'bhat', 'dis_intersect', 'dis_corr']\n",
    "k_neighbors = [1, 3, 5, 10, 15]\n",
    "min_peak_ratios = [0.15]\n",
    "ranks = [5]\n",
    "\n",
    "\n",
    "tcombs = itertools.product(step_sizes, kernel_widths, distribution_types, model_types, \n",
    "                           fold_idx, experiment_types, dis_measures, k_neighbors, min_peak_ratios, ranks)\n",
    "# eliminate cases with kernel_width less than one third of step_size\n",
    "# eliminate cases where single model_type is not called with 1 nearest neighbor\n",
    "tcombs = itertools.ifilter(lambda c: (c[1] == 0 or 3 * c[1] >= c[0]) and\n",
    "                           (c[3] == 'multi' or c[7] == 1), tcombs)\n",
    "tcombs = list(tcombs)\n",
    "num_it = len(tcombs)\n",
    "\n",
    "# linear regression model\n",
    "regr = linear_model.LinearRegression()\n"
   ]
  },
  {
   "cell_type": "code",
   "execution_count": 6,
   "metadata": {
    "collapsed": false
   },
   "outputs": [
    {
     "data": {
      "image/png": "[encoded data removed]",
      "text/plain": [
       "<matplotlib.figure.Figure at 0x7fafee7c1b50>"
      ]
     },
     "metadata": {},
     "output_type": "display_data"
    },
    {
     "name": "stdout",
     "output_type": "stream",
     "text": [
      "10114 experiments are complete\n",
      "4286 experiments are remaining\n",
      "291.477088 experiments per hour\n",
      "The total operation time is estimated as 15.845872 hours\n",
      "The remaining operation time is estimated as 14.733089 hours\n"
     ]
    }
   ],
   "source": [
    "finished = 0\n",
    "for tc in tcombs:\n",
    "    tstr = '--'.join([tc[3], tc[2], str(tc[0]).replace('.', '_'), \n",
    "                      str(tc[1]).replace('.', '_'), tc[6], str(tc[7]), \n",
    "                      str(tc[8]).replace('.', '_')])\n",
    "    tfile = os.path.join('./data/testing/tonic/', tstr, 'fold' + str(tc[4]), 'results.json')\n",
    "    finished += os.path.exists(tfile)  \n",
    "\n",
    "try:\n",
    "    tt = np.vstack((tt,(os.times()[4] - ini_tt) / 3600.0))\n",
    "except:\n",
    "    ini_tt = os.times()[4]\n",
    "    tt = np.array([0])\n",
    "\n",
    "try:\n",
    "    ff = np.vstack((ff, finished))\n",
    "except:\n",
    "    ff = np.array([finished])\n",
    "    \n",
    "rem_ff = num_it - ff\n",
    "\n",
    "regr.fit(num_it -ff, tt)\n",
    "\n",
    "pyplot.plot(tt, rem_ff, '-*')\n",
    "pyplot.show()\n",
    "\n",
    "num_file_per_hour = - 1.0 / regr.coef_\n",
    "est_hours = (regr.predict(0) - tt[0])\n",
    "rem_hours = est_hours - tt[-1]\n",
    "print \"%d experiments are complete\" % ff[-1]\n",
    "print \"%d experiments are remaining\" % rem_ff[-1]\n",
    "print \"%f experiments per hour\" % num_file_per_hour\n",
    "print \"The total operation time is estimated as %f hours\" % est_hours\n",
    "print \"The remaining operation time is estimated as %f hours\" % rem_hours\n"
   ]
  }
 ],
 "metadata": {
  "kernelspec": {
   "display_name": "Python 2",
   "language": "python",
   "name": "python2"
  },
  "language_info": {
   "codemirror_mode": {
    "name": "ipython",
    "version": 2
   },
   "file_extension": ".py",
   "mimetype": "text/x-python",
   "name": "python",
   "nbconvert_exporter": "python",
   "pygments_lexer": "ipython2",
   "version": "2.7.11+"
  }
 },
 "nbformat": 4,
 "nbformat_minor": 0
}

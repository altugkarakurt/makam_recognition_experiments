{
 "cells": [
  {
   "cell_type": "code",
   "execution_count": 1,
   "metadata": {
    "collapsed": true
   },
   "outputs": [],
   "source": [
    "%matplotlib inline\n",
    "from fileoperations.fileoperations import get_filenames_in_dir\n",
    "from collections import Counter\n",
    "from matplotlib import pyplot\n",
    "from sklearn import linear_model\n",
    "import numpy as np\n",
    "import os\n"
   ]
  },
  {
   "cell_type": "code",
   "execution_count": 2,
   "metadata": {
    "collapsed": false
   },
   "outputs": [],
   "source": [
    "num_it = 17280\n",
    "experiment = 'joint'\n",
    "\n",
    "save_path = os.path.join('.', 'data', 'testing', experiment)\n",
    "\n",
    "# Create linear regression object\n",
    "regr = linear_model.LinearRegression()\n",
    "\n",
    "ini_tt = os.times()[4]\n",
    "tt = np.array([0])\n",
    "ff = np.array([len(get_filenames_in_dir(save_path, keyword='results.json')[0])])\n"
   ]
  },
  {
   "cell_type": "code",
   "execution_count": 55,
   "metadata": {
    "collapsed": false
   },
   "outputs": [
    {
     "data": {
      "image/png": "[encoded data removed]",
      "text/plain": [
       "<matplotlib.figure.Figure at 0x7f67a8307b10>"
      ]
     },
     "metadata": {},
     "output_type": "display_data"
    },
    {
     "name": "stdout",
     "output_type": "stream",
     "text": [
      "2109 experiments are complete\n",
      "15171 experiments are remaining\n",
      "115.397349 experiments per hour\n",
      "The total operation time is estimated as 142.368667 hours\n",
      "The remaining operation time is estimated as 131.411242 hours\n"
     ]
    }
   ],
   "source": [
    "files, folders, names = get_filenames_in_dir(save_path, keyword='results.json')\n",
    "tt = np.vstack((tt,(os.times()[4] - ini_tt) / 3600.0))\n",
    "\n",
    "ff = np.vstack((ff, len(files)))\n",
    "rem_ff = num_it - ff\n",
    "\n",
    "regr.fit(num_it -ff, tt)\n",
    "\n",
    "pyplot.plot(tt, rem_ff, '-*')\n",
    "pyplot.show()\n",
    "\n",
    "num_file_per_hour = - 1.0 / regr.coef_\n",
    "est_hours = (regr.predict(0) - tt[0])\n",
    "rem_hours = est_hours - tt[-1]\n",
    "print \"%d experiments are complete\" % ff[-1]\n",
    "print \"%d experiments are remaining\" % rem_ff[-1]\n",
    "print \"%f experiments per hour\" % num_file_per_hour\n",
    "print \"The total operation time is estimated as %f hours\" % est_hours\n",
    "print \"The remaining operation time is estimated as %f hours\" % rem_hours\n"
   ]
  },
  {
   "cell_type": "code",
   "execution_count": null,
   "metadata": {
    "collapsed": false
   },
   "outputs": [],
   "source": [
    "%matplotlib inline\n",
    "import os\n",
    "import itertools\n",
    "import json\n",
    "import numpy as np\n",
    "from matplotlib import pyplot as plt\n",
    "from morty.extras.foldgenerator import FoldGenerator\n",
    "from dlfm_code.tester import plot_min_peak_ratio\n",
    "from fileoperations.fileoperations import get_filenames_in_dir\n",
    "\n",
    "# parameters\n",
    "distribution_types = ['pd', 'pcd']\n",
    "step_sizes = [7.5, 15.0, 25.0, 50.0, 100.0]\n",
    "kernel_widths = [0, 7.5, 15.0, 25.0, 50.0, 100.0]\n",
    "model_types = ['single', 'multi']\n",
    "\n",
    "# experimental setup\n",
    "experiment_types = ['joint']\n",
    "fold_idx = np.arange(0,10,1)\n",
    "\n",
    "# testing parameters\n",
    "dis_measures = ['l1', 'l2', 'l3', 'bhat', 'dis_intersect', 'dis_corr']\n",
    "k_neighbors = [1, 3, 5, 10, 15]\n",
    "min_peak_ratios = [0.15]\n",
    "ranks = [5]\n",
    "\n",
    "\n",
    "tcombs = itertools.product(step_sizes, kernel_widths, distribution_types, model_types, \n",
    "                           fold_idx, experiment_types, dis_measures, k_neighbors, min_peak_ratios, ranks)\n",
    "# eliminate cases with kernel_width less than one third of step_size\n",
    "# eliminate cases where single model_type is not called with 1 nearest neighbor\n",
    "tcombs = itertools.ifilter(lambda c: (c[1] == 0 or 3 * c[1] >= c[0]) and\n",
    "                           (c[3] == 'multi' or c[7] == 1), tcombs)\n",
    "tcombs = itertools.izip(*tcombs)\n",
    "\n",
    "tcombs = list(tcombs)\n",
    "len(tcombs[0])"
   ]
  }
 ],
 "metadata": {
  "kernelspec": {
   "display_name": "Python 2",
   "language": "python",
   "name": "python2"
  },
  "language_info": {
   "codemirror_mode": {
    "name": "ipython",
    "version": 2
   },
   "file_extension": ".py",
   "mimetype": "text/x-python",
   "name": "python",
   "nbconvert_exporter": "python",
   "pygments_lexer": "ipython2",
   "version": "2.7.11+"
  }
 },
 "nbformat": 4,
 "nbformat_minor": 0
}

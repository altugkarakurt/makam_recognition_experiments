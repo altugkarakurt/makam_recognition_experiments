{
 "cells": [
  {
   "cell_type": "code",
   "execution_count": 1,
   "metadata": {
    "collapsed": true
   },
   "outputs": [],
   "source": [
    "from fileoperations.fileoperations import get_filenames_in_dir\n",
    "from collections import Counter\n",
    "import os\n",
    "\n",
    "prev_time = 0\n",
    "prev_files = 0"
   ]
  },
  {
   "cell_type": "code",
   "execution_count": 4,
   "metadata": {
    "collapsed": false
   },
   "outputs": [
    {
     "name": "stdout",
     "output_type": "stream",
     "text": [
      "203 seconds have passed\n",
      "5 experiments are processed\n",
      "0.024604 experiments per second\n",
      "The total operation time is estimated as 195.091200 hours\n",
      "423 experiments are complete\n",
      "16857 experiments are remaining\n",
      "The remaining operation time is estimated as 190.315530 hours\n"
     ]
    }
   ],
   "source": [
    "num_it = 17280\n",
    "experiment = 'joint'\n",
    "\n",
    "\n",
    "curr_time = os.times()[4]\n",
    "save_path = os.path.join('.', 'data', 'testing', experiment)\n",
    "files, folders, names = get_filenames_in_dir(save_path, keyword='results.json')\n",
    "curr_files = len(files)\n",
    "rem_files = num_it - curr_files\n",
    "\n",
    "delta_time = curr_time - prev_time\n",
    "delta_file = curr_files - prev_files\n",
    "num_file_per_sec = float(delta_file) / float(delta_time)\n",
    "est_hours = float(num_it) / num_file_per_sec / 60.0 / 60.0\n",
    "rem_hours = rem_files / num_file_per_sec / 60.0 / 60.0\n",
    "print \"%d seconds have passed\" % delta_time\n",
    "print \"%d experiments are processed\" % delta_file\n",
    "print \"%f experiments per second\" % num_file_per_sec\n",
    "print \"The total operation time is estimated as %f hours\" % est_hours\n",
    "print \"%d experiments are complete\" % curr_files\n",
    "print \"%d experiments are remaining\" % (num_it - curr_files)\n",
    "print \"The remaining operation time is estimated as %f hours\" % rem_hours\n",
    "\n",
    "prev_time = curr_time\n",
    "prev_files = curr_files"
   ]
  },
  {
   "cell_type": "code",
   "execution_count": 3,
   "metadata": {
    "collapsed": false
   },
   "outputs": [
    {
     "data": {
      "text/plain": [
       "17280"
      ]
     },
     "execution_count": 3,
     "metadata": {},
     "output_type": "execute_result"
    }
   ],
   "source": [
    "%matplotlib inline\n",
    "import os\n",
    "import itertools\n",
    "import json\n",
    "import numpy as np\n",
    "from matplotlib import pyplot as plt\n",
    "from morty.extras.foldgenerator import FoldGenerator\n",
    "from dlfm_code.tester import plot_min_peak_ratio\n",
    "from fileoperations.fileoperations import get_filenames_in_dir\n",
    "\n",
    "# parameters\n",
    "distribution_types = ['pd', 'pcd']\n",
    "step_sizes = [7.5, 15.0, 25.0, 50.0, 100.0]\n",
    "kernel_widths = [0, 7.5, 15.0, 25.0, 50.0, 100.0]\n",
    "model_types = ['single', 'multi']\n",
    "\n",
    "# experimental setup\n",
    "experiment_types = ['joint']\n",
    "fold_idx = np.arange(0,10,1)\n",
    "\n",
    "# testing parameters\n",
    "dis_measures = ['l1', 'l2', 'l3', 'bhat', 'dis_intersect', 'dis_corr']\n",
    "k_neighbors = [1, 3, 5, 10, 15]\n",
    "min_peak_ratios = [0.15]\n",
    "ranks = [5]\n",
    "\n",
    "\n",
    "tcombs = itertools.product(step_sizes, kernel_widths, distribution_types, model_types, \n",
    "                           fold_idx, experiment_types, dis_measures, k_neighbors, min_peak_ratios, ranks)\n",
    "# eliminate cases with kernel_width less than one third of step_size\n",
    "# eliminate cases where single model_type is not called with 1 nearest neighbor\n",
    "tcombs = itertools.ifilter(lambda c: (c[1] == 0 or 3 * c[1] >= c[0]) and\n",
    "                           (c[3] == 'multi' or c[7] == 1), tcombs)\n",
    "tcombs = itertools.izip(*tcombs)\n",
    "\n",
    "tcombs = list(tcombs)\n",
    "len(tcombs[0])"
   ]
  }
 ],
 "metadata": {
  "kernelspec": {
   "display_name": "Python 2",
   "language": "python",
   "name": "python2"
  },
  "language_info": {
   "codemirror_mode": {
    "name": "ipython",
    "version": 2
   },
   "file_extension": ".py",
   "mimetype": "text/x-python",
   "name": "python",
   "nbconvert_exporter": "python",
   "pygments_lexer": "ipython2",
   "version": "2.7.11+"
  }
 },
 "nbformat": 4,
 "nbformat_minor": 0
}

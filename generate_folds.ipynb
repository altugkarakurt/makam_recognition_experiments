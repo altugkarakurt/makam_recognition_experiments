{
 "cells": [
  {
   "cell_type": "code",
   "execution_count": 1,
   "metadata": {
    "collapsed": false
   },
   "outputs": [],
   "source": [
    "from morty.extras.foldgenerator import FoldGenerator\n",
    "import json\n",
    "import os\n"
   ]
  },
  {
   "cell_type": "code",
   "execution_count": 2,
   "metadata": {
    "collapsed": false
   },
   "outputs": [],
   "source": [
    "# data\n",
    "dataset_folder = os.path.join('..', '..', 'test_datasets', \n",
    "                           'ottoman_turkish_makam_recognition_dataset')\n",
    "data_folder = os.path.join(dataset_folder, 'data')\n",
    "annotation_file = os.path.join(dataset_folder, 'annotations.json')\n",
    "annotations = json.load(open(annotation_file, 'r'))\n"
   ]
  },
  {
   "cell_type": "code",
   "execution_count": 3,
   "metadata": {
    "collapsed": false
   },
   "outputs": [],
   "source": [
    "# divide the data into stratified 10-fold\n",
    "cemil_death = 1916  # use Tanburi Cemil Bey's death year for reproducability\n",
    "folds = FoldGenerator.stratified_k_fold(data_folder, annotations, n_folds=10,\n",
    "                                        random_state=cemil_death)\n",
    "json.dump(folds, open(os.path.join('data', 'folds.json'), 'w'), indent=4)\n"
   ]
  }
 ],
 "metadata": {
  "kernelspec": {
   "display_name": "Python 2",
   "language": "python",
   "name": "python2"
  },
  "language_info": {
   "codemirror_mode": {
    "name": "ipython",
    "version": 2
   },
   "file_extension": ".py",
   "mimetype": "text/x-python",
   "name": "python",
   "nbconvert_exporter": "python",
   "pygments_lexer": "ipython2",
   "version": "2.7.11+"
  }
 },
 "nbformat": 4,
 "nbformat_minor": 0
}

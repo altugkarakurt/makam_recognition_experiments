{
 "cells": [
  {
   "cell_type": "code",
   "execution_count": 1,
   "metadata": {
    "collapsed": false
   },
   "outputs": [],
   "source": [
    "import os\n",
    "import itertools\n",
    "import json\n",
    "import numpy as np\n"
   ]
  },
  {
   "cell_type": "code",
   "execution_count": 2,
   "metadata": {
    "collapsed": false
   },
   "outputs": [
    {
     "name": "stdout",
     "output_type": "stream",
     "text": [
      "[0, 1, 2, 3, 4, 5]\n",
      "importing compute_recording_distributions from code.trainer on engine(s)\n",
      "importing train_single from code.trainer on engine(s)\n",
      "importing train_multi from code.trainer on engine(s)\n"
     ]
    }
   ],
   "source": [
    "# ipyparallel\n",
    "import ipyparallel\n",
    "\n",
    "# get the clients\n",
    "clients = ipyparallel.Client()\n",
    "print(clients.ids)\n",
    "\n",
    "# create a direct view into the engines\n",
    "dview = clients.direct_view()\n",
    "\n",
    "with dview.sync_imports():\n",
    "    from code.trainer import compute_recording_distributions\n",
    "    from code.trainer import train_single\n",
    "    from code.trainer import train_multi \n",
    " "
   ]
  },
  {
   "cell_type": "code",
   "execution_count": 3,
   "metadata": {
    "collapsed": false
   },
   "outputs": [],
   "source": [
    "# paths\n",
    "dataset_path = os.path.abspath(os.path.join(\n",
    "        '..', '..', 'test_datasets', 'ottoman_turkish_makam_recognition_dataset'))\n",
    "\n",
    "# parameters\n",
    "distribution_types = [\"pd\", \"pcd\"]\n",
    "step_sizes = [7.5, 15.0, 25.0, 50.0, 100.0]\n",
    "kernel_widths = [0, 7.5, 15.0, 25.0, 50.0, 100.0]\n",
    "model_types = ['single', 'multi']\n",
    "\n",
    "# load annotation\n",
    "annotations = json.load(open(os.path.join(dataset_path, 'annotations.json')))\n",
    "\n",
    "# ipyparallel executes the code in where the engines have started\n",
    "# add the absolute repository directory to annotation\n",
    "for a in annotations:\n",
    "    a['dataset_path'] = dataset_path\n",
    "\n",
    "# load folds\n",
    "folds = json.load(open(os.path.join('data', 'folds.json')))\n",
    "\n",
    "# add index to folds for saving\n",
    "folds = list(enumerate(folds))\n"
   ]
  },
  {
   "cell_type": "markdown",
   "metadata": {},
   "source": [
    "## FEATURE EXTRACTION"
   ]
  },
  {
   "cell_type": "code",
   "execution_count": 4,
   "metadata": {
    "collapsed": false
   },
   "outputs": [],
   "source": [
    "# compute the distribution per recording for all combinations\n",
    "fcombs = list(\n",
    "    itertools.product(step_sizes, kernel_widths, distribution_types, annotations))\n",
    "# ignore combinations in which kernel_width is three times less than the step_size\n",
    "fcombs = [c for c in fcombs if c[1] == 0 or 3 * c[1] >= c[0]]\n",
    "fcombs = np.array(fcombs).transpose().tolist()\n",
    "\n",
    "feature_result = dview.map_sync(compute_recording_distributions, *fcombs)\n"
   ]
  },
  {
   "cell_type": "markdown",
   "metadata": {},
   "source": [
    "## TRAINING"
   ]
  },
  {
   "cell_type": "code",
   "execution_count": 5,
   "metadata": {
    "collapsed": true
   },
   "outputs": [],
   "source": [
    "# get all parameter combinations\n",
    "tcombs = list(\n",
    "    itertools.product(step_sizes, kernel_widths, distribution_types, folds))\n",
    "# ignore combinations in which kernel_width is three times less than the step_size\n",
    "tcombs = [c for c in tcombs if c[1] == 0 or 3 * c[1] >= c[0]]\n",
    "tcombs = np.array(tcombs).transpose().tolist()\n",
    "\n",
    "single_result = dview.map_sync(train_single, *tcombs)\n",
    "multi_result = dview.map_sync(train_multi, *tcombs)"
   ]
  }
 ],
 "metadata": {
  "kernelspec": {
   "display_name": "Python 2",
   "language": "python",
   "name": "python2"
  },
  "language_info": {
   "codemirror_mode": {
    "name": "ipython",
    "version": 2
   },
   "file_extension": ".py",
   "mimetype": "text/x-python",
   "name": "python",
   "nbconvert_exporter": "python",
   "pygments_lexer": "ipython2",
   "version": "2.7.11+"
  }
 },
 "nbformat": 4,
 "nbformat_minor": 0
}

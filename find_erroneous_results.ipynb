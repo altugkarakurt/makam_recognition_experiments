{
 "cells": [
  {
   "cell_type": "code",
   "execution_count": 1,
   "metadata": {
    "collapsed": false
   },
   "outputs": [
    {
     "name": "stdout",
     "output_type": "stream",
     "text": [
      "Automatic pdb calling has been turned ON\n"
     ]
    }
   ],
   "source": [
    "import os\n",
    "import json\n",
    "from dlfm_code.tester import test\n",
    "import shutil\n",
    "%pdb \n"
   ]
  },
  {
   "cell_type": "code",
   "execution_count": 2,
   "metadata": {
    "collapsed": true
   },
   "outputs": [],
   "source": [
    "exp_names = ['tonic', 'mode', 'joint'];\n",
    "\n",
    "training = ['single', 'multi'];\n",
    "distribution = ['pd', 'pcd'];\n",
    "\n",
    "bin_size = [7.5, 15.0, 25.0, 50.0, 100.0];\n",
    "bin_size_str = ['7_5', '15_0', '25_0','50_0', '100_0'];\n",
    "\n",
    "kernel_width = [0, 7.5, 15.0, 25.0, 50.0, 100.0]\n",
    "kernel_width_str = ['0', '7_5', '15_0', '25_0','50_0', '100_0'];\n",
    "\n",
    "dists = ['l1', 'l2', 'l3', 'bhat', 'dis_intersect', 'dis_corr'];\n",
    "\n",
    "k_neighbors = [1, 3, 5, 10, 15];\n",
    "k_neighbors_str = ['1', '3', '5', '10', '15'];\n",
    "\n",
    "peak_ratio = [0.15];\n",
    "peak_ratio_str = ['0_15'];\n",
    "\n",
    "test_dir = './data/testing/';\n",
    "folds = json.load(open('./data/folds.json', 'r'))"
   ]
  },
  {
   "cell_type": "code",
   "execution_count": 3,
   "metadata": {
    "collapsed": false
   },
   "outputs": [],
   "source": [
    "it = 0\n",
    "total = 0\n",
    "res_err = []\n",
    "for ee in exp_names:\n",
    "    for tt in training:\n",
    "        for dd in distribution:\n",
    "            for (bb, bbs) in zip(bin_size, bin_size_str):\n",
    "                for (kk, kks) in zip(kernel_width, kernel_width_str):\n",
    "                    for di in dists:\n",
    "                        for (kn, kns) in zip(k_neighbors, k_neighbors_str):\n",
    "                            param_str_list = [tt, dd, bbs, kks, di, kns, peak_ratio_str[0]]\n",
    "                            param_str = '--'.join(param_str_list)\n",
    "                            \n",
    "                            for ff in range(10):\n",
    "                                fold_dir = os.path.join(test_dir, ee, param_str, 'fold' + str(ff))\n",
    "                                \n",
    "                                if not os.path.isdir(fold_dir):\n",
    "                                    if tt == 'single' and kn != 1:\n",
    "                                        pass\n",
    "                                    elif bb > kk * 3 and kk != 0 :\n",
    "                                        pass\n",
    "                                    else:\n",
    "                                        print \"Missing \" + fold_dir\n",
    "                                        import pdb\n",
    "                                        pdb.set_trace()\n",
    "                                else:\n",
    "                                    res_file = os.path.join(fold_dir, 'results.json')\n",
    "                                    try:\n",
    "                                        temp_res = json.load(open(res_file, 'r'))\n",
    "                                    except IOError:\n",
    "                                        temp_res = dict()\n",
    "                                        \n",
    "                                    test_mbids = set(fold['source'] for fold in folds[ff][1]['testing'])\n",
    "                                    total += 1\n",
    "                                    \n",
    "                                    if (test_mbids - set(temp_res.keys())):\n",
    "                                        \n",
    "                                        it += 1\n",
    "                                        \n",
    "                                        param_list = [bb, kk, dd, tt, ff, ee, di, kn, peak_ratio[0], 5, os.path.join('.', 'data')]\n",
    "                                        \n",
    "                                        res_err.append((res_file, param_list))\n",
    "                                        # test(*param_list, overwrite=True)\n",
    "                                        \n",
    "                                        print res_file"
   ]
  },
  {
   "cell_type": "code",
   "execution_count": 4,
   "metadata": {
    "collapsed": false
   },
   "outputs": [
    {
     "name": "stdout",
     "output_type": "stream",
     "text": [
      "51840\n",
      "0\n"
     ]
    }
   ],
   "source": [
    "print total\n",
    "print it\n",
    "json.dump(res_err, open('res_err.json', 'w'))"
   ]
  }
 ],
 "metadata": {
  "kernelspec": {
   "display_name": "Python 2",
   "language": "python",
   "name": "python2"
  },
  "language_info": {
   "codemirror_mode": {
    "name": "ipython",
    "version": 2
   },
   "file_extension": ".py",
   "mimetype": "text/x-python",
   "name": "python",
   "nbconvert_exporter": "python",
   "pygments_lexer": "ipython2",
   "version": "2.7.11+"
  }
 },
 "nbformat": 4,
 "nbformat_minor": 0
}

{
 "cells": [
  {
   "cell_type": "code",
   "execution_count": 1,
   "metadata": {
    "collapsed": false
   },
   "outputs": [],
   "source": [
    "import os\n",
    "import json\n",
    "from dlfm_code.tester import test\n",
    "import itertools"
   ]
  },
  {
   "cell_type": "code",
   "execution_count": null,
   "metadata": {
    "collapsed": false
   },
   "outputs": [
    {
     "name": "stdout",
     "output_type": "stream",
     "text": [
      "[0, 1, 2, 3, 4, 5, 6, 7]\n",
      "importing test from dlfm_code.tester on engine(s)\n",
      "importing evaluate from dlfm_code.tester on engine(s)\n",
      "[2, 3, 4, 5, 6, 7, 8, 9, 10, 11]\n"
     ]
    }
   ],
   "source": [
    "# ipyparallel\n",
    "import ipyparallel\n",
    "\n",
    "# get the clients\n",
    "clients = ipyparallel.Client()\n",
    "print(clients.ids)\n",
    "\n",
    "# create a direct view into the engines\n",
    "dview = clients.direct_view()\n",
    "\n",
    "with dview.sync_imports():\n",
    "    from dlfm_code.tester import test\n",
    "    from dlfm_code.tester import evaluate\n",
    "    \n",
    "# dummy method to check that the cluster works properly\n",
    "def dummy(x):\n",
    "    return x+2\n",
    "print dview.map_sync(dummy, range(0,10))\n"
   ]
  },
  {
   "cell_type": "code",
   "execution_count": null,
   "metadata": {
    "collapsed": false
   },
   "outputs": [],
   "source": [
    "errors = json.load(open('res_err.json', 'r'))\n",
    "error_params = [tuple(err[1]) for err in errors]\n",
    "error_params = itertools.izip(*error_params)\n",
    "test_result = dview.map_sync(test, *error_params)\n"
   ]
  }
 ],
 "metadata": {
  "kernelspec": {
   "display_name": "Python 2",
   "language": "python",
   "name": "python2"
  },
  "language_info": {
   "codemirror_mode": {
    "name": "ipython",
    "version": 2
   },
   "file_extension": ".py",
   "mimetype": "text/x-python",
   "name": "python",
   "nbconvert_exporter": "python",
   "pygments_lexer": "ipython2",
   "version": "2.7.11+"
  }
 },
 "nbformat": 4,
 "nbformat_minor": 0
}

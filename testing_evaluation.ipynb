{
 "cells": [
  {
   "cell_type": "markdown",
   "metadata": {},
   "source": [
    "# Testing and evaluation\n",
    "This notebook tests the models and parameters computed in [setup_feature_training.ipynb](https://github.com/sertansenturk/dlfm_makam_recognition/blob/master/setup_feature_training.ipynb) using the features also computed in the same notebook. Next, it aggregates the obtained results and evaluates the models/parameters.\n",
    "\n",
    "That that we also apply the testing on the training recordings too, in order to obtain the training accuracy"
   ]
  },
  {
   "cell_type": "code",
   "execution_count": 1,
   "metadata": {
    "collapsed": false
   },
   "outputs": [],
   "source": [
    "%matplotlib inline\n",
    "import os\n",
    "import itertools\n",
    "import json\n",
    "import numpy as np\n",
    "from matplotlib import pyplot as plt\n",
    "from morty.extras.foldgenerator import FoldGenerator\n",
    "from dlfm_code.tester import plot_min_peak_ratio\n",
    "from fileoperations.fileoperations import get_filenames_in_dir\n"
   ]
  },
  {
   "cell_type": "markdown",
   "metadata": {},
   "source": [
    "## Setup the cluster"
   ]
  },
  {
   "cell_type": "code",
   "execution_count": 2,
   "metadata": {
    "collapsed": false
   },
   "outputs": [
    {
     "name": "stdout",
     "output_type": "stream",
     "text": [
      "[0, 1, 2, 3, 4, 5, 6, 7]\n",
      "importing compute_recording_distributions from dlfm_code.trainer on engine(s)\n",
      "importing train_single from dlfm_code.trainer on engine(s)\n",
      "importing train_multi from dlfm_code.trainer on engine(s)\n",
      "importing search_min_peak_ratio from dlfm_code.tester on engine(s)\n",
      "importing test from dlfm_code.tester on engine(s)\n",
      "[2, 3, 4, 5, 6, 7, 8, 9, 10, 11]\n"
     ]
    }
   ],
   "source": [
    "# ipyparallel\n",
    "import ipyparallel\n",
    "\n",
    "# get the clients\n",
    "clients = ipyparallel.Client()\n",
    "print(clients.ids)\n",
    "\n",
    "# create a direct view into the engines\n",
    "dview = clients.direct_view()\n",
    "\n",
    "with dview.sync_imports():\n",
    "    from dlfm_code.trainer import compute_recording_distributions\n",
    "    from dlfm_code.trainer import train_single\n",
    "    from dlfm_code.trainer import train_multi \n",
    "    from dlfm_code.tester import search_min_peak_ratio\n",
    "    from dlfm_code.tester import test\n",
    "    \n",
    "# dummy method to check that the cluster works properly\n",
    "def dummy(x):\n",
    "    return x+2\n",
    "print dview.map_sync(dummy, range(0,10))\n",
    "    "
   ]
  },
  {
   "cell_type": "markdown",
   "metadata": {},
   "source": [
    "## Set the dataset, feature and training model paths and define the parameters"
   ]
  },
  {
   "cell_type": "code",
   "execution_count": 3,
   "metadata": {
    "collapsed": false
   },
   "outputs": [],
   "source": [
    "# paths\n",
    "dataset_folder = os.path.abspath(os.path.join(\n",
    "        './', 'data', 'ottoman_turkish_makam_recognition_dataset'))\n",
    "    \n",
    "# parameters\n",
    "distribution_types = ['pd', 'pcd']\n",
    "step_sizes = [7.5, 15.0, 25.0, 50.0, 100.0]\n",
    "kernel_widths = [0, 7.5, 15.0, 25.0, 50.0, 100.0]\n",
    "model_types = ['single', 'multi']\n"
   ]
  },
  {
   "cell_type": "markdown",
   "metadata": {},
   "source": [
    "## Optimize *min_peak_ratio*\n",
    "This parameter is used in tonic identification and joint estimation to consider the minimum peak height wrt the highest peak to be selected as a tonic candidate. We check in how many recordings the peak is among the peaks obtained above the *min_peak_ratio* and total the number of peaks that is detected above the *min_peak_ratio*. We would like to have the number of peaks as small as possible: **1)** for time and computational performance, **2)** to increase the prior probabilty of selecting the correct tonic among the selected peaks.\n",
    "\n",
    "While checking we search the *min_peak_ratio* from 0 (i.e. no thresholding) to 1 (i.e. selecting the pitch or pitch-class of the highest peak directly as the tonic) with 0.05 hops. We consider all the *kernel_width*s, *distribution_type*s. We only consider the *step_size*s between 7.5 to 25 cents as max error introduced by the bin size (i.e. *step_size* / 2) for higher *step_size* values is close to or exceeds the distance tolerance between the annotated and the estimated tonic frequencies (25 cents) in the evaluation of tonic identification."
   ]
  },
  {
   "cell_type": "raw",
   "metadata": {
    "collapsed": false
   },
   "source": [
    "# get all the combinations for the selected parameters\n",
    "min_peak_ratios = np.arange(0, 1.01, 0.05).tolist()\n",
    "\n",
    "pcombs = list(\n",
    "    itertools.product([7.5, 15.0, 25.0, 50.0], kernel_widths, distribution_types, min_peak_ratios))\n",
    "# ignore combinations in which kernel_width is three times less than the step_size\n",
    "pcombs = [c for c in pcombs if c[1] == 0 or 3 * c[1] >= c[0]]\n",
    "pcombs = np.array(pcombs, dtype='object').transpose().tolist()\n",
    "\n",
    "# get the number of recordings where the tonic is among the peaks vs.\n",
    "# the total number of peaks for each experiment\n",
    "tmp_peak = dview.map_sync(search_min_peak_ratio, *pcombs)\n",
    "\n",
    "# accumulate the numbers\n",
    "num_tonic = np.zeros(len(min_peak_ratios))\n",
    "num_peak = np.zeros(len(min_peak_ratios))\n",
    "for i, (t, p) in enumerate(tmp_peak):\n",
    "    # print '%d, %d, %.2f' %(t, p, pcombs[-1][i])\n",
    "    idx = np.where(np.isclose(min_peak_ratios, pcombs[-1][i]))\n",
    "    num_tonic[idx] += t\n",
    "    num_peak[idx] += p\n",
    "ratio_tonic = num_tonic / (1000.0 * len(pcombs[-1]) / len(min_peak_ratios))   \n",
    "prob_tonic = num_tonic / num_peak\n",
    "\n",
    "# plot tonic percentage and number of peaks vs minimum peak ratio\n",
    "plot_min_peak_ratio(min_peak_ratios, ratio_tonic, num_peak, \n",
    "                    num_exps=len(pcombs[0]))\n",
    "plt.show()"
   ]
  },
  {
   "cell_type": "markdown",
   "metadata": {},
   "source": [
    "## Testing Parameters\n",
    "\n",
    "From the figure, we can observe that the probability of having the tonic is among the detected peaks does not have a substatial drop from 0 to 0.35 *minimum_peak_ratio*. In the meantime there is a substantial drop in the number of detected peaks with respect to 0 when we increase the *minimum_peak_ratio*. Depending on the application any *minimum_peak_ratio* can be selected. We select *minimum_peak_ratio* as **0.15**, since our scenario can tolerate longer processing time for better accuracy.\n",
    "\n",
    "Below we list the parameters to be optimized. Note that the training parameters are listed above."
   ]
  },
  {
   "cell_type": "code",
   "execution_count": null,
   "metadata": {
    "collapsed": false
   },
   "outputs": [
    {
     "name": "stdout",
     "output_type": "stream",
     "text": [
      "Automatic pdb calling has been turned ON\n"
     ]
    }
   ],
   "source": [
    "# experimental setup\n",
    "experiment_types = ['tonic', 'mode', 'joint']\n",
    "fold_idx = np.arange(0,10,1)\n",
    "\n",
    "# testing parameters\n",
    "dis_measures = ['l1', 'l2', 'l3', 'bhat', 'dis_intersect', 'dis_corr']\n",
    "k_neighbors = [1, 3, 5, 10, 15]\n",
    "min_peak_ratios = [0.15]\n",
    "ranks = [5]\n"
   ]
  },
  {
   "cell_type": "markdown",
   "metadata": {},
   "source": [
    "# Testing"
   ]
  },
  {
   "cell_type": "code",
   "execution_count": null,
   "metadata": {
    "collapsed": false
   },
   "outputs": [
    {
     "name": "stdout",
     "output_type": "stream",
     "text": [
      "Running experiments\n"
     ]
    }
   ],
   "source": [
    "# get all the combinations. We also use the training data to obtain training accuracy later\n",
    "# NOTE: There are so many of combinations so we use generators\n",
    "tcombs = itertools.product(step_sizes, kernel_widths, distribution_types, model_types, \n",
    "                           fold_idx, experiment_types, dis_measures, k_neighbors, min_peak_ratios, ranks)\n",
    "# eliminate cases with kernel_width less than one third of step_size\n",
    "# eliminate cases where single model_type is not called with 1 nearest neighbor\n",
    "tcombs = itertools.ifilter(lambda c: (c[1] == 0 or 3 * c[2] >= c[0]) and\n",
    "                           (c[3] == 'multi' or c[7] == 1), tcombs)\n",
    "tcombs = itertools.izip(*tcombs)\n",
    "print \"Running experiments\"\n",
    "\n",
    "test_result = dview.map_sync(test, *tcombs)"
   ]
  },
  {
   "cell_type": "markdown",
   "metadata": {},
   "source": [
    "# Results"
   ]
  }
 ],
 "metadata": {
  "kernelspec": {
   "display_name": "Python 2",
   "language": "python",
   "name": "python2"
  },
  "language_info": {
   "codemirror_mode": {
    "name": "ipython",
    "version": 2
   },
   "file_extension": ".py",
   "mimetype": "text/x-python",
   "name": "python",
   "nbconvert_exporter": "python",
   "pygments_lexer": "ipython2",
   "version": "2.7.11+"
  }
 },
 "nbformat": 4,
 "nbformat_minor": 0
}
